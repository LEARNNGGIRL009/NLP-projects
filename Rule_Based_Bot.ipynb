{
  "nbformat": 4,
  "nbformat_minor": 0,
  "metadata": {
    "colab": {
      "provenance": [],
      "authorship_tag": "ABX9TyNLoXfXZKK2I+1NqvPZjSc/",
      "include_colab_link": true
    },
    "kernelspec": {
      "name": "python3",
      "display_name": "Python 3"
    },
    "language_info": {
      "name": "python"
    }
  },
  "cells": [
    {
      "cell_type": "markdown",
      "metadata": {
        "id": "view-in-github",
        "colab_type": "text"
      },
      "source": [
        "<a href=\"https://colab.research.google.com/github/LEARNNGGIRL009/NLP-projects/blob/main/Rule_Based_Bot.ipynb\" target=\"_parent\"><img src=\"https://colab.research.google.com/assets/colab-badge.svg\" alt=\"Open In Colab\"/></a>"
      ]
    },
    {
      "cell_type": "code",
      "source": [
        "# importing regex and random libraries\n",
        "import re\n",
        "import random"
      ],
      "metadata": {
        "id": "vTgNu6uagQVs"
      },
      "execution_count": null,
      "outputs": []
    },
    {
      "cell_type": "code",
      "source": [
        "class AlienBot:\n",
        "  # potential negative responses\n",
        "  negative_responses = (\"no\", \"nope\", \"nah\", \"naw\", \"not a chance\", \"sorry\")\n",
        "  # keywords for exiting the conversation\n",
        "  exit_commands = (\"quit\", \"pause\", \"exit\", \"goodbye\", \"bye\", \"later\")\n",
        "  # random starter questions\n",
        "  random_questions = (\n",
        "        \"Why are you here? \",\n",
        "        \"Are there many humans like you? \",\n",
        "        \"What do you consume for sustenance? \",\n",
        "        \"Is there intelligent life on this planet? \",\n",
        "        \"Does Earth have a leader? \",\n",
        "        \"What planets have you visited? \",\n",
        "        \"What technology do you have on this planet? \"\n",
        "    )\n",
        "\n",
        "  def __init__(self):\n",
        "    self.alienbabble = {\n",
        "      'describe_planet_intent': r'.*\\s*your planet.*',\n",
        "      'answer_why_intent': r'.*\\s*why are.*',\n",
        "      'cubed_intent': r'.*cube.*(\\d+)' # this is the regex\n",
        "      }\n",
        "\n",
        "  # Define .greet() below:\n",
        "  def greet(self):\n",
        "    self.name = input(\"How do you call yourself? \")\n",
        "    will_help = input(f\"Hi {self.name}, I'm Etcetera. I'm not from this planet. Will you help me learn about your planet? \")\n",
        "    for negative in self.negative_responses:\n",
        "      if negative in will_help:\n",
        "        print(\"Ok, have a nice Earth day!\")\n",
        "        return\n",
        "    self.chat()\n",
        "\n",
        "  # Define .make_exit() here:\n",
        "  def make_exit(self, reply):\n",
        "    for word in self.exit_commands:\n",
        "      if word in reply:\n",
        "        print(\"Ok, have a nice Earth...... day!\")\n",
        "        return True\n",
        "    else:\n",
        "      return False\n",
        "\n",
        "  # Define .chat() next:\n",
        "  def chat(self):\n",
        "    reply = input(random.choice(self.random_questions)).lower()\n",
        "    while not self.make_exit(reply):\n",
        "      print(\"Nived\")\n",
        "      reply = input(self.match_reply(reply))\n",
        "\n",
        "  # Define .match_reply() below:\n",
        "  def match_reply(self, reply):\n",
        "    for key, value in self.alienbabble.items():\n",
        "      intent, regex_pattern = key, value\n",
        "      found_match = re.match(value, reply)\n",
        "      if found_match and intent == 'describe_planet_intent':\n",
        "        return self.describe_planet_intent()\n",
        "      elif found_match and intent == 'answer_why_intent':\n",
        "        return self.answer_why_intent()\n",
        "      elif found_match and intent == 'cubed_intent': # this is the match which I cannot get into!\n",
        "        return self.cubed_intent(found_match.groups()[0])\n",
        "      else:\n",
        "        return self.no_match_intent()\n",
        "\n",
        "  # Define .describe_planet_intent():\n",
        "  def describe_planet_intent(self):\n",
        "    responses= (\n",
        "      \"-My planet is a utopia of diverse organisms and species.\",\n",
        "      \"-I am from Opidipus, the capital of the Wayward Galaxies.\"\n",
        "      )\n",
        "    return random.choice(responses)\n",
        "\n",
        "  # Define .answer_why_intent():\n",
        "  def answer_why_intent(self):\n",
        "    responses= (\n",
        "      \"-I come in peace.\",\n",
        "      \"-I am here to collect data on your planet and its inhabitants.\",\n",
        "      \"-I heard the coffee is good.\")\n",
        "    return random.choice(responses)\n",
        "\n",
        "  # Define .cubed_intent():\n",
        "  def cubed_intent(self, number): # this is the function\n",
        "    number = int(number)\n",
        "    number_cubed = number ** 3\n",
        "    return f\"The cube of {number} is {number_cubed}. Isn't that cool?\"\n",
        "\n",
        "  # Define .no_match_intent():\n",
        "  def no_match_intent(self):\n",
        "    responses = (\n",
        "      \"-Please tell me more\",\n",
        "      \"-Tell me more!\",\n",
        "      \"-Why do you say that?\",\n",
        "      \"-I see. Can you elaborate?\",\n",
        "      \"-Interesting. Can you tell me more?\",\n",
        "      \"-I see. How do you think?\",\n",
        "      \"-Why?\",\n",
        "      \"-How do you think I feel when you say that?\",\n",
        "    )\n",
        "    return random.choice(responses)\n",
        "\n",
        "# Create an instance of AlienBot below:\n",
        "alienbot = AlienBot()\n",
        "alienbot.greet()\n",
        "\n"
      ],
      "metadata": {
        "colab": {
          "base_uri": "https://localhost:8080/"
        },
        "id": "hYkHp4p1085K",
        "outputId": "bda17bed-2b88-460e-cccc-1773497a8988"
      },
      "execution_count": null,
      "outputs": [
        {
          "output_type": "stream",
          "name": "stdout",
          "text": [
            "How do you call yourself? pogo\n",
            "Hi pogo, I'm Etcetera. I'm not from this planet. Will you help me learn about your planet? yes\n",
            "What planets have you visited? planet\n",
            "Nived\n",
            "-Interesting. Can you tell me more?quit\n",
            "Ok, have a nice Earth...... day!\n"
          ]
        }
      ]
    },
    {
      "cell_type": "code",
      "source": [
        "\n"
      ],
      "metadata": {
        "id": "TLP_UQrPMdTY"
      },
      "execution_count": null,
      "outputs": []
    }
  ]
}